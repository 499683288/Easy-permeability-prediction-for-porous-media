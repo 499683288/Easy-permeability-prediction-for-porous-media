{
 "cells": [
  {
   "cell_type": "code",
   "execution_count": 1,
   "metadata": {},
   "outputs": [
    {
     "name": "stdout",
     "output_type": "stream",
     "text": [
      "300\n"
     ]
    }
   ],
   "source": [
    "import pandas as pd\n",
    "import numpy as np\n",
    "import os\n",
    "from sklearn.model_selection import train_test_split\n",
    "from sklearn.model_selection import cross_val_score\n",
    "import matplotlib.pyplot as plt\n",
    "from sklearn.neighbors import KNeighborsRegressor\n",
    "from sklearn.ensemble import RandomForestRegressor\n",
    "from sklearn.ensemble import GradientBoostingRegressor \n",
    "from sklearn.svm import SVR\n",
    "from sklearn.metrics import mean_squared_error\n",
    "from sklearn.metrics import r2_score\n",
    "import numpy as np\n",
    "from sklearn.model_selection import KFold\n",
    "from sklearn.feature_selection import RFECV\n",
    "from sklearn.model_selection import GridSearchCV\n",
    "from sklearn.metrics import make_scorer, accuracy_score\n",
    "from scipy.stats import gaussian_kde\n",
    "from mpl_toolkits.axes_grid1 import make_axes_locatable\n",
    "import sys\n",
    "from sklearn.linear_model import Ridge\n",
    "import matplotlib\n",
    "path1=os.getcwd()+'./euler_number.csv'\n",
    "path2=os.getcwd()+'./permeability.csv'\n",
    "f1=open(path1,encoding='utf-8')\n",
    "f2=open(path2,encoding='utf-8')\n",
    "X_=pd.read_csv(f1,low_memory=False,header=None)\n",
    "X=np.array(X_)\n",
    "y=pd.read_csv(f2,low_memory=False,header=None)\n",
    "y=np.array(y)\n",
    "y=np.array(y).squeeze(-1)\n",
    "train_x, test_x, train_y, test_y = train_test_split(X, y, test_size=0.30, random_state=0)\n",
    "print(len(test_y))\n",
    "np.savetxt(\"./test_y_euler.csv\",test_y)"
   ]
  },
  {
   "cell_type": "code",
   "execution_count": 2,
   "metadata": {},
   "outputs": [
    {
     "name": "stdout",
     "output_type": "stream",
     "text": [
      "scores:0.9521954164157478\n",
      "RMSLE:0.06471428455022825\n"
     ]
    }
   ],
   "source": [
    "from sklearn.linear_model import LinearRegression\n",
    "lr = LinearRegression()\n",
    "lr.fit(train_x,train_y)\n",
    "pred_y=lr.predict(test_x)\n",
    "np.savetxt(\"./lr_pred_y_euler.csv\",pred_y)\n",
    "scores=r2_score(test_y,pred_y)\n",
    "print(\"scores:\" + str(scores))\n",
    "RMSE=pow(mean_squared_error(abs(test_y),abs(pred_y)),0.5)\n",
    "print(\"RMSLE:\" + str(RMSE))"
   ]
  },
  {
   "cell_type": "code",
   "execution_count": 3,
   "metadata": {},
   "outputs": [
    {
     "name": "stdout",
     "output_type": "stream",
     "text": [
      "scores:0.977745494621118\n",
      "RMSE:0.04415443760812789\n"
     ]
    }
   ],
   "source": [
    "knn=KNeighborsRegressor(n_neighbors=12, algorithm='kd_tree', weights= 'uniform')   \n",
    "knn.fit(train_x,train_y)\n",
    "pred_y=knn.predict(test_x)\n",
    "np.savetxt(\"./knn_pred_y_euler.csv\",pred_y)\n",
    "scores=r2_score(test_y,pred_y)\n",
    "print(\"scores:\" + str(scores))\n",
    "RMSE=pow(mean_squared_error(abs(test_y),abs(pred_y)),0.5)\n",
    "print(\"RMSE:\" + str(RMSE)) "
   ]
  },
  {
   "cell_type": "code",
   "execution_count": 4,
   "metadata": {},
   "outputs": [
    {
     "name": "stdout",
     "output_type": "stream",
     "text": [
      "scores:0.9783731175668787\n",
      "RMSE:0.043527361681548485\n"
     ]
    }
   ],
   "source": [
    "rf=RandomForestRegressor(max_depth= 100, max_features= 'sqrt',max_leaf_nodes= 50,n_estimators=500,oob_score=True)    \n",
    "rf.fit(train_x,train_y)\n",
    "pred_y=rf.predict(test_x)\n",
    "np.savetxt(\"./rf_pred_y_euler.csv\",pred_y)\n",
    "scores=r2_score(test_y,pred_y)\n",
    "print(\"scores:\" + str(scores))\n",
    "RMSE=pow(mean_squared_error(abs(test_y),abs(pred_y)),0.5)\n",
    "print(\"RMSE:\" + str(RMSE)) "
   ]
  },
  {
   "cell_type": "code",
   "execution_count": 5,
   "metadata": {},
   "outputs": [
    {
     "name": "stdout",
     "output_type": "stream",
     "text": [
      "scores:0.9646166504720903\n",
      "RMSE:0.05567559355377172\n"
     ]
    }
   ],
   "source": [
    "svr=SVR(C=1, kernel='rbf')    \n",
    "svr.fit(train_x,train_y)\n",
    "pred_y=svr.predict(test_x)\n",
    "np.savetxt(\"./svr_pred_y_euler.csv\",pred_y)\n",
    "scores=r2_score(test_y,pred_y)\n",
    "print(\"scores:\" + str(scores))\n",
    "RMSE=pow(mean_squared_error(abs(test_y),abs(pred_y)),0.5)\n",
    "print(\"RMSE:\" + str(RMSE))"
   ]
  },
  {
   "cell_type": "code",
   "execution_count": null,
   "metadata": {},
   "outputs": [],
   "source": []
  }
 ],
 "metadata": {
  "kernelspec": {
   "display_name": "Python 3",
   "language": "python",
   "name": "python3"
  },
  "language_info": {
   "codemirror_mode": {
    "name": "ipython",
    "version": 3
   },
   "file_extension": ".py",
   "mimetype": "text/x-python",
   "name": "python",
   "nbconvert_exporter": "python",
   "pygments_lexer": "ipython3",
   "version": "3.8.8"
  }
 },
 "nbformat": 4,
 "nbformat_minor": 4
}
